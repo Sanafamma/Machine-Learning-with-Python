{
  "nbformat": 4,
  "nbformat_minor": 0,
  "metadata": {
    "colab": {
      "provenance": [],
      "collapsed_sections": [
        "j90WBtnGQjPD"
      ],
      "gpuType": "T4",
      "include_colab_link": true
    },
    "kernelspec": {
      "name": "python3",
      "display_name": "Python 3"
    },
    "language_info": {
      "name": "python"
    },
    "accelerator": "GPU",
    "gpuClass": "standard"
  },
  "cells": [
    {
      "cell_type": "markdown",
      "metadata": {
        "id": "view-in-github",
        "colab_type": "text"
      },
      "source": [
        "<a href=\"https://colab.research.google.com/github/Sanafamma/Machine-Learning-with-Python/blob/master/Machine_Learning_A_03.ipynb\" target=\"_parent\"><img src=\"https://colab.research.google.com/assets/colab-badge.svg\" alt=\"Open In Colab\"/></a>"
      ]
    },
    {
      "cell_type": "markdown",
      "source": [
        "# **`Building my First Machine Learning Model in Python `**\n",
        "\n",
        "# ***Task 01: Classification Problem with different Classifiers***\n",
        "\n",
        "\n"
      ],
      "metadata": {
        "id": "j90WBtnGQjPD"
      }
    },
    {
      "cell_type": "markdown",
      "source": [
        "**Importing Dependencies**\n"
      ],
      "metadata": {
        "id": "kXci4DLhVhiu"
      }
    },
    {
      "cell_type": "code",
      "source": [
        "from sklearn import datasets, model_selection, metrics, tree   #importing Dependencies, for ML Algorithms\n",
        "import pandas as pd                                            # for pre-processing of spreadsheet\n",
        "from sklearn.preprocessing import StandardScaler               #normalization\n",
        "import numpy as np                                             #to handle arrays or matrices of numerical Data\n",
        "import matplotlib.pyplot as plt                                # for plots display\n",
        "from sklearn.metrics import confusion_matrix                   #computes Confusion matrix in binary classification\n",
        "from sklearn.naive_bayes import GaussianNB                     #implements the Gaussian Naive Bayes algorithm\n",
        "from sklearn.linear_model import LinearRegression              # model relationship between variables     \n",
        "from sklearn.model_selection import train_test_split           #for spliting dataset into training and Testing\n",
        "from sklearn.metrics import mean_squared_error                 #calculate MSE b/w predicted and actual values in REGRESSION\n",
        "from sklearn.ensemble import RandomForestClassifier            #implemetns random forest algortihm\n",
        "from sklearn.svm import SVR                                    #implements support vector REGRESSION \n",
        "from sklearn.svm import SVC                                    #implements support vector classification   \n",
        "from sklearn.neighbors import KNeighborsClassifier             #implements K-Nearest classifier\n",
        "from sklearn.metrics import mean_absolute_error, mean_squared_error, r2_score #calculate MSE/MAE b/w target and predicted value\n"
      ],
      "metadata": {
        "id": "V4-vHQALQ9rW"
      },
      "execution_count": 2,
      "outputs": []
    },
    {
      "cell_type": "markdown",
      "source": [
        "**Loading Dataset**"
      ],
      "metadata": {
        "id": "vn06LiDCV7Xh"
      }
    },
    {
      "cell_type": "code",
      "source": [
        "wine_data = datasets.load_wine()\n",
        "df = pd.DataFrame(wine_data[\"data\"], columns=wine_data[\"feature_names\"])\n",
        "df.head()"
      ],
      "metadata": {
        "id": "EC24MFMPV_am",
        "outputId": "0cdb402b-0031-43fd-b118-b55337ebab2e",
        "colab": {
          "base_uri": "https://localhost:8080/",
          "height": 0
        }
      },
      "execution_count": 3,
      "outputs": [
        {
          "output_type": "execute_result",
          "data": {
            "text/plain": [
              "   alcohol  malic_acid   ash  alcalinity_of_ash  magnesium  total_phenols  \\\n",
              "0    14.23        1.71  2.43               15.6      127.0           2.80   \n",
              "1    13.20        1.78  2.14               11.2      100.0           2.65   \n",
              "2    13.16        2.36  2.67               18.6      101.0           2.80   \n",
              "3    14.37        1.95  2.50               16.8      113.0           3.85   \n",
              "4    13.24        2.59  2.87               21.0      118.0           2.80   \n",
              "\n",
              "   flavanoids  nonflavanoid_phenols  proanthocyanins  color_intensity   hue  \\\n",
              "0        3.06                  0.28             2.29             5.64  1.04   \n",
              "1        2.76                  0.26             1.28             4.38  1.05   \n",
              "2        3.24                  0.30             2.81             5.68  1.03   \n",
              "3        3.49                  0.24             2.18             7.80  0.86   \n",
              "4        2.69                  0.39             1.82             4.32  1.04   \n",
              "\n",
              "   od280/od315_of_diluted_wines  proline  \n",
              "0                          3.92   1065.0  \n",
              "1                          3.40   1050.0  \n",
              "2                          3.17   1185.0  \n",
              "3                          3.45   1480.0  \n",
              "4                          2.93    735.0  "
            ],
            "text/html": [
              "\n",
              "  <div id=\"df-1ceac844-b34d-4259-b463-9d0c3522e831\">\n",
              "    <div class=\"colab-df-container\">\n",
              "      <div>\n",
              "<style scoped>\n",
              "    .dataframe tbody tr th:only-of-type {\n",
              "        vertical-align: middle;\n",
              "    }\n",
              "\n",
              "    .dataframe tbody tr th {\n",
              "        vertical-align: top;\n",
              "    }\n",
              "\n",
              "    .dataframe thead th {\n",
              "        text-align: right;\n",
              "    }\n",
              "</style>\n",
              "<table border=\"1\" class=\"dataframe\">\n",
              "  <thead>\n",
              "    <tr style=\"text-align: right;\">\n",
              "      <th></th>\n",
              "      <th>alcohol</th>\n",
              "      <th>malic_acid</th>\n",
              "      <th>ash</th>\n",
              "      <th>alcalinity_of_ash</th>\n",
              "      <th>magnesium</th>\n",
              "      <th>total_phenols</th>\n",
              "      <th>flavanoids</th>\n",
              "      <th>nonflavanoid_phenols</th>\n",
              "      <th>proanthocyanins</th>\n",
              "      <th>color_intensity</th>\n",
              "      <th>hue</th>\n",
              "      <th>od280/od315_of_diluted_wines</th>\n",
              "      <th>proline</th>\n",
              "    </tr>\n",
              "  </thead>\n",
              "  <tbody>\n",
              "    <tr>\n",
              "      <th>0</th>\n",
              "      <td>14.23</td>\n",
              "      <td>1.71</td>\n",
              "      <td>2.43</td>\n",
              "      <td>15.6</td>\n",
              "      <td>127.0</td>\n",
              "      <td>2.80</td>\n",
              "      <td>3.06</td>\n",
              "      <td>0.28</td>\n",
              "      <td>2.29</td>\n",
              "      <td>5.64</td>\n",
              "      <td>1.04</td>\n",
              "      <td>3.92</td>\n",
              "      <td>1065.0</td>\n",
              "    </tr>\n",
              "    <tr>\n",
              "      <th>1</th>\n",
              "      <td>13.20</td>\n",
              "      <td>1.78</td>\n",
              "      <td>2.14</td>\n",
              "      <td>11.2</td>\n",
              "      <td>100.0</td>\n",
              "      <td>2.65</td>\n",
              "      <td>2.76</td>\n",
              "      <td>0.26</td>\n",
              "      <td>1.28</td>\n",
              "      <td>4.38</td>\n",
              "      <td>1.05</td>\n",
              "      <td>3.40</td>\n",
              "      <td>1050.0</td>\n",
              "    </tr>\n",
              "    <tr>\n",
              "      <th>2</th>\n",
              "      <td>13.16</td>\n",
              "      <td>2.36</td>\n",
              "      <td>2.67</td>\n",
              "      <td>18.6</td>\n",
              "      <td>101.0</td>\n",
              "      <td>2.80</td>\n",
              "      <td>3.24</td>\n",
              "      <td>0.30</td>\n",
              "      <td>2.81</td>\n",
              "      <td>5.68</td>\n",
              "      <td>1.03</td>\n",
              "      <td>3.17</td>\n",
              "      <td>1185.0</td>\n",
              "    </tr>\n",
              "    <tr>\n",
              "      <th>3</th>\n",
              "      <td>14.37</td>\n",
              "      <td>1.95</td>\n",
              "      <td>2.50</td>\n",
              "      <td>16.8</td>\n",
              "      <td>113.0</td>\n",
              "      <td>3.85</td>\n",
              "      <td>3.49</td>\n",
              "      <td>0.24</td>\n",
              "      <td>2.18</td>\n",
              "      <td>7.80</td>\n",
              "      <td>0.86</td>\n",
              "      <td>3.45</td>\n",
              "      <td>1480.0</td>\n",
              "    </tr>\n",
              "    <tr>\n",
              "      <th>4</th>\n",
              "      <td>13.24</td>\n",
              "      <td>2.59</td>\n",
              "      <td>2.87</td>\n",
              "      <td>21.0</td>\n",
              "      <td>118.0</td>\n",
              "      <td>2.80</td>\n",
              "      <td>2.69</td>\n",
              "      <td>0.39</td>\n",
              "      <td>1.82</td>\n",
              "      <td>4.32</td>\n",
              "      <td>1.04</td>\n",
              "      <td>2.93</td>\n",
              "      <td>735.0</td>\n",
              "    </tr>\n",
              "  </tbody>\n",
              "</table>\n",
              "</div>\n",
              "      <button class=\"colab-df-convert\" onclick=\"convertToInteractive('df-1ceac844-b34d-4259-b463-9d0c3522e831')\"\n",
              "              title=\"Convert this dataframe to an interactive table.\"\n",
              "              style=\"display:none;\">\n",
              "        \n",
              "  <svg xmlns=\"http://www.w3.org/2000/svg\" height=\"24px\"viewBox=\"0 0 24 24\"\n",
              "       width=\"24px\">\n",
              "    <path d=\"M0 0h24v24H0V0z\" fill=\"none\"/>\n",
              "    <path d=\"M18.56 5.44l.94 2.06.94-2.06 2.06-.94-2.06-.94-.94-2.06-.94 2.06-2.06.94zm-11 1L8.5 8.5l.94-2.06 2.06-.94-2.06-.94L8.5 2.5l-.94 2.06-2.06.94zm10 10l.94 2.06.94-2.06 2.06-.94-2.06-.94-.94-2.06-.94 2.06-2.06.94z\"/><path d=\"M17.41 7.96l-1.37-1.37c-.4-.4-.92-.59-1.43-.59-.52 0-1.04.2-1.43.59L10.3 9.45l-7.72 7.72c-.78.78-.78 2.05 0 2.83L4 21.41c.39.39.9.59 1.41.59.51 0 1.02-.2 1.41-.59l7.78-7.78 2.81-2.81c.8-.78.8-2.07 0-2.86zM5.41 20L4 18.59l7.72-7.72 1.47 1.35L5.41 20z\"/>\n",
              "  </svg>\n",
              "      </button>\n",
              "      \n",
              "  <style>\n",
              "    .colab-df-container {\n",
              "      display:flex;\n",
              "      flex-wrap:wrap;\n",
              "      gap: 12px;\n",
              "    }\n",
              "\n",
              "    .colab-df-convert {\n",
              "      background-color: #E8F0FE;\n",
              "      border: none;\n",
              "      border-radius: 50%;\n",
              "      cursor: pointer;\n",
              "      display: none;\n",
              "      fill: #1967D2;\n",
              "      height: 32px;\n",
              "      padding: 0 0 0 0;\n",
              "      width: 32px;\n",
              "    }\n",
              "\n",
              "    .colab-df-convert:hover {\n",
              "      background-color: #E2EBFA;\n",
              "      box-shadow: 0px 1px 2px rgba(60, 64, 67, 0.3), 0px 1px 3px 1px rgba(60, 64, 67, 0.15);\n",
              "      fill: #174EA6;\n",
              "    }\n",
              "\n",
              "    [theme=dark] .colab-df-convert {\n",
              "      background-color: #3B4455;\n",
              "      fill: #D2E3FC;\n",
              "    }\n",
              "\n",
              "    [theme=dark] .colab-df-convert:hover {\n",
              "      background-color: #434B5C;\n",
              "      box-shadow: 0px 1px 3px 1px rgba(0, 0, 0, 0.15);\n",
              "      filter: drop-shadow(0px 1px 2px rgba(0, 0, 0, 0.3));\n",
              "      fill: #FFFFFF;\n",
              "    }\n",
              "  </style>\n",
              "\n",
              "      <script>\n",
              "        const buttonEl =\n",
              "          document.querySelector('#df-1ceac844-b34d-4259-b463-9d0c3522e831 button.colab-df-convert');\n",
              "        buttonEl.style.display =\n",
              "          google.colab.kernel.accessAllowed ? 'block' : 'none';\n",
              "\n",
              "        async function convertToInteractive(key) {\n",
              "          const element = document.querySelector('#df-1ceac844-b34d-4259-b463-9d0c3522e831');\n",
              "          const dataTable =\n",
              "            await google.colab.kernel.invokeFunction('convertToInteractive',\n",
              "                                                     [key], {});\n",
              "          if (!dataTable) return;\n",
              "\n",
              "          const docLinkHtml = 'Like what you see? Visit the ' +\n",
              "            '<a target=\"_blank\" href=https://colab.research.google.com/notebooks/data_table.ipynb>data table notebook</a>'\n",
              "            + ' to learn more about interactive tables.';\n",
              "          element.innerHTML = '';\n",
              "          dataTable['output_type'] = 'display_data';\n",
              "          await google.colab.output.renderOutput(dataTable, element);\n",
              "          const docLink = document.createElement('div');\n",
              "          docLink.innerHTML = docLinkHtml;\n",
              "          element.appendChild(docLink);\n",
              "        }\n",
              "      </script>\n",
              "    </div>\n",
              "  </div>\n",
              "  "
            ]
          },
          "metadata": {},
          "execution_count": 3
        }
      ]
    },
    {
      "cell_type": "markdown",
      "source": [
        "**Lables**"
      ],
      "metadata": {
        "id": "Zh-XQ1O28H8o"
      }
    },
    {
      "cell_type": "code",
      "source": [
        "target = wine_data[\"target\"]\n",
        "target\n",
        "\n",
        "#Spliting the Data \n",
        "X_train, X_test, y_train, y_test= model_selection.train_test_split(df, target, test_size=0.2, random_state=0)\n",
        "print(\"Training Dataset:\", X_train.shape)\n",
        "print(\"Test Dataset:\", X_test.shape)"
      ],
      "metadata": {
        "id": "Pmz7OFM9XjnJ",
        "outputId": "3cbdcf96-ac60-4ab6-fc64-7dbc1bde3d64",
        "colab": {
          "base_uri": "https://localhost:8080/"
        }
      },
      "execution_count": 4,
      "outputs": [
        {
          "output_type": "stream",
          "name": "stdout",
          "text": [
            "Training Dataset: (142, 13)\n",
            "Test Dataset: (36, 13)\n"
          ]
        }
      ]
    },
    {
      "cell_type": "markdown",
      "source": [
        "**Normalization before training a model**"
      ],
      "metadata": {
        "id": "TH_QpXw9-WJs"
      }
    },
    {
      "cell_type": "code",
      "source": [
        "# Standardize features by removing mean and scaling to unit variance:\n",
        "scaler = StandardScaler()\n",
        "scaler.fit(X_train)\n",
        "X_train = scaler.transform(X_train)\n",
        "X_test = scaler.transform(X_test)"
      ],
      "metadata": {
        "id": "bVa2fY67-dZW"
      },
      "execution_count": 5,
      "outputs": []
    },
    {
      "cell_type": "markdown",
      "source": [
        "## **Training Decision Tree**"
      ],
      "metadata": {
        "id": "XlZN6whj-IsA"
      }
    },
    {
      "cell_type": "code",
      "source": [
        "#Training the model Decision Tree Classifier\n",
        "classifier = tree.DecisionTreeClassifier()\n",
        "model = classifier.fit(X_train, y_train)\n",
        "model\n",
        "#predicting test data\n",
        "y_pred = model.predict(X_test)\n",
        "report = metrics.classification_report(y_test, y_pred)\n",
        "print(report)\n",
        "#predicted model\n",
        "model.score(X_test, y_test)"
      ],
      "metadata": {
        "colab": {
          "base_uri": "https://localhost:8080/"
        },
        "id": "JuHVR5lk-Rr3",
        "outputId": "0892a936-c4ee-4a80-b888-20109020f967"
      },
      "execution_count": 6,
      "outputs": [
        {
          "output_type": "stream",
          "name": "stdout",
          "text": [
            "              precision    recall  f1-score   support\n",
            "\n",
            "           0       0.93      1.00      0.97        14\n",
            "           1       1.00      0.94      0.97        16\n",
            "           2       1.00      1.00      1.00         6\n",
            "\n",
            "    accuracy                           0.97        36\n",
            "   macro avg       0.98      0.98      0.98        36\n",
            "weighted avg       0.97      0.97      0.97        36\n",
            "\n"
          ]
        },
        {
          "output_type": "execute_result",
          "data": {
            "text/plain": [
              "0.9722222222222222"
            ]
          },
          "metadata": {},
          "execution_count": 6
        }
      ]
    },
    {
      "cell_type": "markdown",
      "source": [
        "### **Confusion Matrix**"
      ],
      "metadata": {
        "id": "Azm2MqWnbdyq"
      }
    },
    {
      "cell_type": "code",
      "source": [
        "conf_mat = confusion_matrix(y_test, y_pred)\n",
        "plt.imshow(conf_mat, cmap='Oranges', interpolation='nearest')\n",
        "plt.title('Confusion matrix')\n",
        "plt.colorbar()\n",
        "tick_marks = np.arange(2)\n",
        "plt.xlabel('Predicted')\n",
        "plt.ylabel('True')"
      ],
      "metadata": {
        "colab": {
          "base_uri": "https://localhost:8080/",
          "height": 0
        },
        "id": "HQYNhhRkcaXI",
        "outputId": "fb166c63-1cf4-4136-d524-962164d88407"
      },
      "execution_count": 7,
      "outputs": [
        {
          "output_type": "execute_result",
          "data": {
            "text/plain": [
              "Text(0, 0.5, 'True')"
            ]
          },
          "metadata": {},
          "execution_count": 7
        },
        {
          "output_type": "display_data",
          "data": {
            "text/plain": [
              "<Figure size 640x480 with 2 Axes>"
            ],
            "image/png": "[encoded data removed]"
          },
          "metadata": {}
        }
      ]
    },
    {
      "cell_type": "markdown",
      "source": [
        "## **Naiive Bayees Classifier**"
      ],
      "metadata": {
        "id": "ss_F8a9g-zwR"
      }
    },
    {
      "cell_type": "code",
      "source": [
        "classifier = GaussianNB()\n",
        "model = classifier.fit(X_train, y_train)\n",
        "model\n",
        "#prediction of model\n",
        "y_pred = model.predict(X_test)\n",
        "report = metrics.classification_report(y_test, y_pred)\n",
        "print(report)\n",
        "#predicted model\n",
        "model.score(X_test, y_test)"
      ],
      "metadata": {
        "colab": {
          "base_uri": "https://localhost:8080/"
        },
        "id": "me8G1HPi_NOD",
        "outputId": "97d095b4-fd66-4136-860c-2b76fea88fb4"
      },
      "execution_count": 8,
      "outputs": [
        {
          "output_type": "stream",
          "name": "stdout",
          "text": [
            "              precision    recall  f1-score   support\n",
            "\n",
            "           0       0.88      1.00      0.93        14\n",
            "           1       1.00      0.81      0.90        16\n",
            "           2       0.86      1.00      0.92         6\n",
            "\n",
            "    accuracy                           0.92        36\n",
            "   macro avg       0.91      0.94      0.92        36\n",
            "weighted avg       0.93      0.92      0.92        36\n",
            "\n"
          ]
        },
        {
          "output_type": "execute_result",
          "data": {
            "text/plain": [
              "0.9166666666666666"
            ]
          },
          "metadata": {},
          "execution_count": 8
        }
      ]
    },
    {
      "cell_type": "markdown",
      "source": [
        "**Confusion** **Matrix**"
      ],
      "metadata": {
        "id": "hgECmBbDCS4z"
      }
    },
    {
      "cell_type": "code",
      "source": [
        "conf_mat = confusion_matrix(y_test, y_pred)\n",
        "plt.imshow(conf_mat, cmap='Oranges', interpolation='nearest')\n",
        "plt.title('Confusion matrix')\n",
        "plt.colorbar()\n",
        "tick_marks = np.arange(2)\n",
        "plt.xlabel('Predicted')\n",
        "plt.ylabel('True')"
      ],
      "metadata": {
        "colab": {
          "base_uri": "https://localhost:8080/",
          "height": 0
        },
        "id": "pELD_V1qCX_X",
        "outputId": "e42ab9d9-5873-495b-d7f7-baff2da0f9ca"
      },
      "execution_count": 9,
      "outputs": [
        {
          "output_type": "execute_result",
          "data": {
            "text/plain": [
              "Text(0, 0.5, 'True')"
            ]
          },
          "metadata": {},
          "execution_count": 9
        },
        {
          "output_type": "display_data",
          "data": {
            "text/plain": [
              "<Figure size 640x480 with 2 Axes>"
            ],
            "image/png": "[encoded data removed]"
          },
          "metadata": {}
        }
      ]
    },
    {
      "cell_type": "markdown",
      "source": [
        "##**K-Nearest Neighbour Classifier**"
      ],
      "metadata": {
        "id": "ucDxcIJkCfsz"
      }
    },
    {
      "cell_type": "code",
      "source": [
        "classifier = KNeighborsClassifier()\n",
        "model = classifier.fit(X_train, y_train)\n",
        "model\n",
        "#prediction of model\n",
        "y_pred = model.predict(X_test)\n",
        "report = metrics.classification_report(y_test, y_pred)\n",
        "print(report)\n",
        "#predicted model\n",
        "model.score(X_test, y_test)"
      ],
      "metadata": {
        "colab": {
          "base_uri": "https://localhost:8080/"
        },
        "id": "H9DYBQviC6j9",
        "outputId": "32e4c8b9-633e-4ed3-bae2-b50964234b1e"
      },
      "execution_count": 10,
      "outputs": [
        {
          "output_type": "stream",
          "name": "stdout",
          "text": [
            "              precision    recall  f1-score   support\n",
            "\n",
            "           0       1.00      1.00      1.00        14\n",
            "           1       1.00      0.94      0.97        16\n",
            "           2       0.86      1.00      0.92         6\n",
            "\n",
            "    accuracy                           0.97        36\n",
            "   macro avg       0.95      0.98      0.96        36\n",
            "weighted avg       0.98      0.97      0.97        36\n",
            "\n"
          ]
        },
        {
          "output_type": "execute_result",
          "data": {
            "text/plain": [
              "0.9722222222222222"
            ]
          },
          "metadata": {},
          "execution_count": 10
        }
      ]
    },
    {
      "cell_type": "markdown",
      "source": [
        "**Confusion MAtrix**"
      ],
      "metadata": {
        "id": "MNpBNaKzEZ5Y"
      }
    },
    {
      "cell_type": "code",
      "source": [
        "conf_mat = confusion_matrix(y_test, y_pred)\n",
        "plt.imshow(conf_mat, cmap='Oranges', interpolation='nearest')\n",
        "plt.title('Confusion matrix')\n",
        "plt.colorbar()\n",
        "tick_marks = np.arange(2)\n",
        "plt.xlabel('Predicted')\n",
        "plt.ylabel('True')"
      ],
      "metadata": {
        "colab": {
          "base_uri": "https://localhost:8080/",
          "height": 0
        },
        "id": "xhi5VJDUEdin",
        "outputId": "145ddee5-e9ba-4643-9ea8-6b22162a3f64"
      },
      "execution_count": 11,
      "outputs": [
        {
          "output_type": "execute_result",
          "data": {
            "text/plain": [
              "Text(0, 0.5, 'True')"
            ]
          },
          "metadata": {},
          "execution_count": 11
        },
        {
          "output_type": "display_data",
          "data": {
            "text/plain": [
              "<Figure size 640x480 with 2 Axes>"
            ],
            "image/png": "[encoded data removed]"
          },
          "metadata": {}
        }
      ]
    },
    {
      "cell_type": "markdown",
      "source": [
        "##**Random Forest Algorithm**"
      ],
      "metadata": {
        "id": "lIGIQLSpFeA8"
      }
    },
    {
      "cell_type": "code",
      "source": [
        "classifier = RandomForestClassifier()\n",
        "model = classifier.fit(X_train, y_train)\n",
        "model\n",
        "#prediction\n",
        "y_pred = model.predict(X_test)\n",
        "report = metrics.classification_report(y_test, y_pred)\n",
        "print(report)\n",
        "model.score(X_test, y_test)"
      ],
      "metadata": {
        "colab": {
          "base_uri": "https://localhost:8080/"
        },
        "id": "dS2Wv-tVF-Bb",
        "outputId": "0e33a39c-63e5-406e-9be2-dae59d57f91c"
      },
      "execution_count": 12,
      "outputs": [
        {
          "output_type": "stream",
          "name": "stdout",
          "text": [
            "              precision    recall  f1-score   support\n",
            "\n",
            "           0       1.00      1.00      1.00        14\n",
            "           1       1.00      0.94      0.97        16\n",
            "           2       0.86      1.00      0.92         6\n",
            "\n",
            "    accuracy                           0.97        36\n",
            "   macro avg       0.95      0.98      0.96        36\n",
            "weighted avg       0.98      0.97      0.97        36\n",
            "\n"
          ]
        },
        {
          "output_type": "execute_result",
          "data": {
            "text/plain": [
              "0.9722222222222222"
            ]
          },
          "metadata": {},
          "execution_count": 12
        }
      ]
    },
    {
      "cell_type": "markdown",
      "source": [
        "**Confusion Matrix**"
      ],
      "metadata": {
        "id": "ikjbsx9MFsUr"
      }
    },
    {
      "cell_type": "code",
      "source": [
        "conf_mat = confusion_matrix(y_test, y_pred)\n",
        "plt.imshow(conf_mat, cmap='Oranges', interpolation='nearest')\n",
        "plt.title('Confusion matrix')\n",
        "plt.colorbar()\n",
        "tick_marks = np.arange(2)\n",
        "plt.xlabel('Predicted')\n",
        "plt.ylabel('True')"
      ],
      "metadata": {
        "colab": {
          "base_uri": "https://localhost:8080/",
          "height": 0
        },
        "id": "0TquceQgF8PF",
        "outputId": "a1de9f7b-24f3-415c-93c7-d879c34e99be"
      },
      "execution_count": 13,
      "outputs": [
        {
          "output_type": "execute_result",
          "data": {
            "text/plain": [
              "Text(0, 0.5, 'True')"
            ]
          },
          "metadata": {},
          "execution_count": 13
        },
        {
          "output_type": "display_data",
          "data": {
            "text/plain": [
              "<Figure size 640x480 with 2 Axes>"
            ],
            "image/png": "[encoded data removed]"
          },
          "metadata": {}
        }
      ]
    },
    {
      "cell_type": "markdown",
      "source": [
        "##**Support Vector Machinne Classifier**"
      ],
      "metadata": {
        "id": "b_fQODdRFvbD"
      }
    },
    {
      "cell_type": "code",
      "source": [
        "classifier = SVC()\n",
        "model = classifier.fit(X_train, y_train)\n",
        "model\n",
        "y_pred = model.predict(X_test)\n",
        "report = metrics.classification_report(y_test, y_pred)\n",
        "print(report)\n",
        "model.score(X_test, y_test)"
      ],
      "metadata": {
        "colab": {
          "base_uri": "https://localhost:8080/"
        },
        "id": "6QdGnZvOGb2t",
        "outputId": "15d6c55e-e660-4e7b-b258-d7f2c1abb142"
      },
      "execution_count": 14,
      "outputs": [
        {
          "output_type": "stream",
          "name": "stdout",
          "text": [
            "              precision    recall  f1-score   support\n",
            "\n",
            "           0       1.00      1.00      1.00        14\n",
            "           1       1.00      1.00      1.00        16\n",
            "           2       1.00      1.00      1.00         6\n",
            "\n",
            "    accuracy                           1.00        36\n",
            "   macro avg       1.00      1.00      1.00        36\n",
            "weighted avg       1.00      1.00      1.00        36\n",
            "\n"
          ]
        },
        {
          "output_type": "execute_result",
          "data": {
            "text/plain": [
              "1.0"
            ]
          },
          "metadata": {},
          "execution_count": 14
        }
      ]
    },
    {
      "cell_type": "markdown",
      "source": [
        "**Confusion Matrix**"
      ],
      "metadata": {
        "id": "ZXHwrw6OF1_d"
      }
    },
    {
      "cell_type": "code",
      "source": [
        "conf_mat = confusion_matrix(y_test, y_pred)\n",
        "plt.imshow(conf_mat, cmap='Oranges', interpolation='nearest')\n",
        "plt.title('Confusion matrix')\n",
        "plt.colorbar()\n",
        "tick_marks = np.arange(2)\n",
        "plt.xlabel('Predicted')\n",
        "plt.ylabel('True')"
      ],
      "metadata": {
        "colab": {
          "base_uri": "https://localhost:8080/",
          "height": 0
        },
        "id": "TyKzrHfkF6Wh",
        "outputId": "4df9eea7-1fa9-4fbc-e309-2dc78a609e20"
      },
      "execution_count": 15,
      "outputs": [
        {
          "output_type": "execute_result",
          "data": {
            "text/plain": [
              "Text(0, 0.5, 'True')"
            ]
          },
          "metadata": {},
          "execution_count": 15
        },
        {
          "output_type": "display_data",
          "data": {
            "text/plain": [
              "<Figure size 640x480 with 2 Axes>"
            ],
            "image/png": "[encoded data removed]"
          },
          "metadata": {}
        }
      ]
    },
    {
      "cell_type": "markdown",
      "source": [
        "#**Task 02: *i)* Classification \"Cancer Dataset\"   *ii)* Regression- \"Walmart Dataset**"
      ],
      "metadata": {
        "id": "gTDYw1VeH-gu"
      }
    },
    {
      "cell_type": "markdown",
      "source": [
        "## **i) Clasification using different Classifiers**"
      ],
      "metadata": {
        "id": "Xxp1XCKPPzR6"
      }
    },
    {
      "cell_type": "markdown",
      "source": [
        "**Loading Dataset**"
      ],
      "metadata": {
        "id": "EeKfmR0eQPpJ"
      }
    },
    {
      "cell_type": "code",
      "source": [
        "cancer_data = datasets.load_digits()\n",
        "df = pd.DataFrame(cancer_data[\"data\"], columns=cancer_data[\"feature_names\"])\n",
        "df.head()\n",
        "target = cancer_data[\"target\"]\n",
        "target\n"
      ],
      "metadata": {
        "id": "wU8ZopOxQZZF"
      },
      "execution_count": null,
      "outputs": []
    },
    {
      "cell_type": "markdown",
      "source": [
        "**Spliting the Dataset into Training and Test**"
      ],
      "metadata": {
        "id": "KG6RbzsrQhmI"
      }
    },
    {
      "cell_type": "code",
      "source": [
        "X_train, X_test, y_train, y_test = model_selection.train_test_split(df, target, test_size=0.2, random_state=0)\n",
        "print(\"Training Dataset:\", X_train.shape)\n",
        "print(\"Test Dataset:\", X_test.shape)"
      ],
      "metadata": {
        "id": "pHwFVnxVQnBX"
      },
      "execution_count": null,
      "outputs": []
    },
    {
      "cell_type": "markdown",
      "source": [
        "**Noarmalization of Dataset**"
      ],
      "metadata": {
        "id": "mJ-7WXSvRXBT"
      }
    },
    {
      "cell_type": "code",
      "source": [
        " #Standardize features by removing mean and scaling to unit variance\n",
        "scaler = StandardScaler()\n",
        "scaler.fit(X_train)\n",
        "X_train = scaler.transform(X_train)\n",
        "X_test = scaler.transform(X_test)"
      ],
      "metadata": {
        "id": "_OrRm-vLRaA5"
      },
      "execution_count": 20,
      "outputs": []
    },
    {
      "cell_type": "markdown",
      "source": [
        "## **Decision Treee Classifier for Building model**\n"
      ],
      "metadata": {
        "id": "YoPwRG7YRkK3"
      }
    },
    {
      "cell_type": "code",
      "source": [
        "classifier = tree.DecisionTreeClassifier()\n",
        "model = classifier.fit(X_train, y_train)\n",
        "model\n",
        "y_pred = model.predict(X_test)\n",
        "report = metrics.classification_report(y_test, y_pred)\n",
        "print(report)\n",
        "model.score(X_test, y_test)"
      ],
      "metadata": {
        "id": "RyU9RsPGRppn"
      },
      "execution_count": null,
      "outputs": []
    },
    {
      "cell_type": "markdown",
      "source": [
        "## **Naive Bayees classifier**"
      ],
      "metadata": {
        "id": "T7Jil2oVSN6A"
      }
    },
    {
      "cell_type": "code",
      "source": [
        "classifier = GaussianNB()\n",
        "model = classifier.fit(X_train, y_train)\n",
        "model\n",
        "y_pred = model.predict(X_test)\n",
        "report = metrics.classification_report(y_test, y_pred)\n",
        "print(report)\n",
        "model.score(X_test, y_test)"
      ],
      "metadata": {
        "id": "oHSXvbWNSZgl"
      },
      "execution_count": null,
      "outputs": []
    },
    {
      "cell_type": "markdown",
      "source": [
        "## **K-Nearest Neighbour Algorithm**"
      ],
      "metadata": {
        "id": "yAWXUO7lSnZ1"
      }
    },
    {
      "cell_type": "code",
      "source": [
        "classifier = KNeighborsClassifier()\n",
        "model = classifier.fit(X_train, y_train)\n",
        "model\n",
        "y_pred = model.predict(X_test)\n",
        "report = metrics.classification_report(y_test, y_pred)\n",
        "print(report)\n",
        "model.score(X_test, y_test)"
      ],
      "metadata": {
        "id": "WW1qHUFrSs_d"
      },
      "execution_count": null,
      "outputs": []
    },
    {
      "cell_type": "markdown",
      "source": [
        "## **Random Forest Classifier**"
      ],
      "metadata": {
        "id": "GgMYPdnxS1KQ"
      }
    },
    {
      "cell_type": "code",
      "source": [
        "classifier = RandomForestClassifier()\n",
        "model = classifier.fit(X_train, y_train)\n",
        "model\n",
        "y_pred = model.predict(X_test)\n",
        "report = metrics.classification_report(y_test, y_pred)\n",
        "print(report)\n",
        "model.score(X_test, y_test)"
      ],
      "metadata": {
        "id": "TPuR9gftS9qh"
      },
      "execution_count": null,
      "outputs": []
    },
    {
      "cell_type": "markdown",
      "source": [
        "## **Support Vector Machine**"
      ],
      "metadata": {
        "id": "rFzHvpL6THs9"
      }
    },
    {
      "cell_type": "code",
      "source": [
        "classifier = SVC()\n",
        "model = classifier.fit(X_train, y_train)\n",
        "model\n",
        "y_pred = model.predict(X_test)\n",
        "report = metrics.classification_report(y_test, y_pred)\n",
        "print(report)\n",
        "model.score(X_test, y_test)"
      ],
      "metadata": {
        "id": "X-JUG4_oTMGO"
      },
      "execution_count": null,
      "outputs": []
    },
    {
      "cell_type": "markdown",
      "source": [
        "## **ii) Regression Model**"
      ],
      "metadata": {
        "id": "jL_B7-DqTWJa"
      }
    },
    {
      "cell_type": "markdown",
      "source": [
        "**Importing Dependencies**"
      ],
      "metadata": {
        "id": "P8LO6FZeTpoG"
      }
    },
    {
      "cell_type": "code",
      "source": [
        "from sklearn import datasets, model_selection, metrics, tree   #importing ML algorithms\n",
        "import pandas as pd                                             #pre-processing Dataset\n",
        "from sklearn.svm import SVR                                     #for Support vector Regression\n",
        "from sklearn.ensemble import GradientBoostingRegressor      #ensmeble kearning method\n",
        "from keras.models import Sequential                             #a linear stack of layers\n",
        "from sklearn.linear_model import LinearRegression \n",
        "from sklearn.model_selection import train_test_split           #splitting\n",
        "from sklearn.metrics import mean_squared_error                 #calculate MSE\n",
        "from sklearn.ensemble import RandomForestRegressor             #implements RF for regression"
      ],
      "metadata": {
        "id": "XwelQCEbT5fq"
      },
      "execution_count": 28,
      "outputs": []
    },
    {
      "cell_type": "markdown",
      "source": [
        "**Loadind Dataset**"
      ],
      "metadata": {
        "id": "b4h4P5ELUoGE"
      }
    },
    {
      "cell_type": "code",
      "source": [
        "df = pd.read_csv('/content/CarPrice_Assignment (1).csv')\n",
        "column = list(df.columns) # Making a list out of column names\n",
        "len_feature = len(column) # Length of column vector list\n",
        "column\n"
      ],
      "metadata": {
        "id": "4Yc8A35vUq-8"
      },
      "execution_count": null,
      "outputs": []
    },
    {
      "cell_type": "markdown",
      "source": [
        "**Checking the features and variables of Dataset**\n"
      ],
      "metadata": {
        "id": "RRh427knaVl_"
      }
    },
    {
      "cell_type": "code",
      "source": [
        "X = df[column[0:len_feature-2]]\n",
        "y = df[column[len_feature-2]]\n",
        "print(\"Feature set size:\",X.shape)\n",
        "print(\"Variable set size:\",y.shape)"
      ],
      "metadata": {
        "id": "QVNEtbKGabTN"
      },
      "execution_count": null,
      "outputs": []
    },
    {
      "cell_type": "markdown",
      "source": [
        "**Spliting Dataset**"
      ],
      "metadata": {
        "id": "fjuOVvePWEtu"
      }
    },
    {
      "cell_type": "code",
      "source": [
        "X_train, X_test, y_train, y_test = train_test_split(X, y, test_size=0.2, random_state=0)\n",
        "X_train"
      ],
      "metadata": {
        "id": "d_Um48xYWHqn"
      },
      "execution_count": null,
      "outputs": []
    },
    {
      "cell_type": "markdown",
      "source": [
        "## **Linear Regression code**"
      ],
      "metadata": {
        "id": "vL0B4b8Jf8SM"
      }
    },
    {
      "cell_type": "markdown",
      "source": [
        "**Training Model**"
      ],
      "metadata": {
        "id": "xC5ttqeXgL_e"
      }
    },
    {
      "cell_type": "code",
      "source": [
        "classifier = LinearRegression()\n",
        "model = classifier.fit(X_train, y_train)\n",
        "model"
      ],
      "metadata": {
        "id": "jirCtkXOgAzu"
      },
      "execution_count": null,
      "outputs": []
    },
    {
      "cell_type": "markdown",
      "source": [
        "**Prediction**"
      ],
      "metadata": {
        "id": "KHrOg5qAgO_X"
      }
    },
    {
      "cell_type": "code",
      "source": [
        "# Prediction of target values\n",
        "y_pred = model.predict(X_test)"
      ],
      "metadata": {
        "id": "Z80Wc5j7gS21"
      },
      "execution_count": 44,
      "outputs": []
    },
    {
      "cell_type": "markdown",
      "source": [
        "**Mean absolute error and mean squared error**"
      ],
      "metadata": {
        "id": "9_ELW-hmhg_M"
      }
    },
    {
      "cell_type": "code",
      "source": [
        "#calculating mean Absolute error and Mean Squared error\n",
        "MAE = mean_absolute_error(y_test, y_pred)\n",
        "MSE = mean_squared_error(y_test, y_pred)\n",
        "RMSE = np.sqrt(MSE)\n",
        "R2 = r2_score(y_test, y_pred)"
      ],
      "metadata": {
        "id": "bLsqoAKWhlir"
      },
      "execution_count": null,
      "outputs": []
    },
    {
      "cell_type": "markdown",
      "source": [
        "Printing Errors"
      ],
      "metadata": {
        "id": "PIcERH10hpxB"
      }
    },
    {
      "cell_type": "code",
      "source": [
        "print(\"Mean Absolute Error:\", MAE)\n",
        "print(\"Mean Squared Error:\", MSE)\n",
        "print(\"Root Mean Squared Error:\", RMSE)\n",
        "print(\"R-squared:\", R2)"
      ],
      "metadata": {
        "colab": {
          "base_uri": "https://localhost:8080/"
        },
        "id": "m_v59u4aht7k",
        "outputId": "8aa6cea5-88bd-47a7-fd31-104e5215e49b"
      },
      "execution_count": 53,
      "outputs": [
        {
          "output_type": "stream",
          "name": "stdout",
          "text": [
            "Mean Absolute Error: 282947.68759512587\n",
            "Mean Squared Error: 123546565157.05841\n",
            "Root Mean Squared Error: 351491.9133594092\n",
            "R-squared: 0.9146454505152306\n"
          ]
        }
      ]
    },
    {
      "cell_type": "markdown",
      "source": [
        "**Support Vector Regression**"
      ],
      "metadata": {
        "id": "3Aqzh3pkh550"
      }
    },
    {
      "cell_type": "code",
      "source": [
        "classifier = SVR()\n",
        "model = classifier.fit(X_train, y_train)\n",
        "model\n",
        "MAE = mean_absolute_error(y_test, y_pred)\n",
        "MSE = mean_squared_error(y_test, y_pred)\n",
        "RMSE = np.sqrt(MSE)\n",
        "print(\"Mean Absolute Error:\", MAE)\n",
        "print(\"Mean Squared Error:\", MSE)\n",
        "print(\"Root Mean Squared Error:\", RMSE)\n",
        "print(\"R-squared:\", R2)"
      ],
      "metadata": {
        "colab": {
          "base_uri": "https://localhost:8080/"
        },
        "id": "PBfGBvgRh-nJ",
        "outputId": "b4ff5750-3b97-4509-a26e-4dac1e062372"
      },
      "execution_count": 52,
      "outputs": [
        {
          "output_type": "stream",
          "name": "stdout",
          "text": [
            "Mean Absolute Error: 282947.68759512587\n",
            "Mean Squared Error: 123546565157.05841\n",
            "Root Mean Squared Error: 351491.9133594092\n",
            "R-squared: 0.9146454505152306\n"
          ]
        }
      ]
    },
    {
      "cell_type": "markdown",
      "source": [
        "**Gradeint Boosting Regressor Code**"
      ],
      "metadata": {
        "id": "ihM2-W5IiJ2t"
      }
    },
    {
      "cell_type": "code",
      "source": [
        "classifier = GradientBoostingRegressor()\n",
        "model = classifier.fit(X_train, y_train)\n",
        "model\n",
        "MAE = mean_absolute_error(y_test, y_pred)\n",
        "MSE = mean_squared_error(y_test, y_pred)\n",
        "RMSE = np.sqrt(MSE)\n",
        "print(\"Mean Absolute Error:\", MAE)\n",
        "print(\"Mean Squared Error:\", MSE)\n",
        "print(\"Root Mean Squared Error:\", RMSE)\n",
        "print(\"R-squared:\", R2)"
      ],
      "metadata": {
        "colab": {
          "base_uri": "https://localhost:8080/"
        },
        "id": "p7vav-1QiRpW",
        "outputId": "68fbff14-acf5-41d1-c562-ac06f0d2f6cf"
      },
      "execution_count": 51,
      "outputs": [
        {
          "output_type": "stream",
          "name": "stdout",
          "text": [
            "Mean Absolute Error: 282947.68759512587\n",
            "Mean Squared Error: 123546565157.05841\n",
            "Root Mean Squared Error: 351491.9133594092\n",
            "R-squared: 0.9146454505152306\n"
          ]
        }
      ]
    },
    {
      "cell_type": "markdown",
      "source": [
        "**Random Forest Regressor**"
      ],
      "metadata": {
        "id": "ita_FifMigcN"
      }
    },
    {
      "cell_type": "code",
      "source": [
        "classifier = RandomForestRegressor()\n",
        "model = classifier.fit(X_train, y_train)\n",
        "model\n",
        "MAE = mean_absolute_error(y_test, y_pred)\n",
        "MSE = mean_squared_error(y_test, y_pred)\n",
        "RMSE = np.sqrt(MSE)\n",
        "print(\"Mean Absolute Error:\", MAE)\n",
        "print(\"Mean Squared Error:\", MSE)\n",
        "print(\"Root Mean Squared Error:\", RMSE)\n",
        "print(\"R-squared:\", R2)"
      ],
      "metadata": {
        "colab": {
          "base_uri": "https://localhost:8080/"
        },
        "id": "lRAScMR7ilrt",
        "outputId": "75f4243b-06f5-439e-fe37-cbe867cc3093"
      },
      "execution_count": 50,
      "outputs": [
        {
          "output_type": "stream",
          "name": "stdout",
          "text": [
            "Mean Absolute Error: 282947.68759512587\n",
            "Mean Squared Error: 123546565157.05841\n",
            "Root Mean Squared Error: 351491.9133594092\n",
            "R-squared: 0.9146454505152306\n"
          ]
        }
      ]
    }
  ]
}